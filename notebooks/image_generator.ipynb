{
 "cells": [
  {
   "cell_type": "code",
   "execution_count": null,
   "id": "d364ed23",
   "metadata": {},
   "outputs": [],
   "source": [
    "# setx HF_HOME \"E:\\huggingface\"\n",
    "# pip install --upgrade huggingface_hub\n",
    "# huggingface-cli login\n"
   ]
  },
  {
   "cell_type": "code",
   "execution_count": 1,
   "id": "cfcb2e7f",
   "metadata": {},
   "outputs": [
    {
     "name": "stderr",
     "output_type": "stream",
     "text": [
      "e:\\pyWorkplace\\fantasyGen\\.venv\\lib\\site-packages\\tqdm\\auto.py:21: TqdmWarning: IProgress not found. Please update jupyter and ipywidgets. See https://ipywidgets.readthedocs.io/en/stable/user_install.html\n",
      "  from .autonotebook import tqdm as notebook_tqdm\n"
     ]
    }
   ],
   "source": [
    "from diffusers import (\n",
    "    StableDiffusionPipeline,\n",
    "    StableDiffusionXLPipeline,\n",
    "    FluxPipeline\n",
    ")\n",
    "import torch\n",
    "import torch_directml\n",
    "from pathlib import Path\n"
   ]
  },
  {
   "cell_type": "code",
   "execution_count": 2,
   "id": "633afefc",
   "metadata": {},
   "outputs": [],
   "source": [
    "class Generator_2:\n",
    "\n",
    "    def __init__(self):\n",
    "\n",
    "\n",
    "        dml = torch_directml.device()\n",
    "\n",
    "        # --- SETTINGS ---\n",
    "        base_model = \"runwayml/stable-diffusion-v1-5\"  # SD1.5 model\n",
    "        self.lora_path = \"./SD\"  # Local folder or HF repo\n",
    "        lora_file = \"FantasyClassics.safetensors\"  # LoRA file name\n",
    "\n",
    "        # --- LOAD BASE MODEL ---\n",
    "        self.pipe = StableDiffusionPipeline.from_pretrained(\n",
    "            base_model,\n",
    "            torch_dtype=torch.float16\n",
    "        )\n",
    "        self.pipe = self.pipe.to(dml)\n",
    "\n",
    "    def load_lora(self, lora_file):\n",
    "\n",
    "        self.pipe.load_lora_weights(self.lora_path, weight_name=lora_file)\n",
    "        self.pipe.fuse_lora(lora_scale=0.8)  # Adjust 0.0-1.0 for LoRA strength\n",
    "\n",
    "    def generate(self, prompt):\n",
    "        image = self.pipe(prompt, guidance_scale=7.5, num_inference_steps=25).images[0]\n",
    "\n",
    "        return image"
   ]
  },
  {
   "cell_type": "code",
   "execution_count": 3,
   "id": "e41cc1da",
   "metadata": {},
   "outputs": [],
   "source": [
    "\n",
    "class Generator:\n",
    "    def __init__(self, base_model=\"runwayml/stable-diffusion-v1-5\", model_type=\"sd15\", local_file=False):\n",
    "        self.dml = torch_directml.device()\n",
    "        self.base_model = base_model\n",
    "        self.model_type = model_type\n",
    "        self.local_file = local_file\n",
    "        self.lora_path = \"./backend/resources/\"\n",
    "\n",
    "        self.pipe = self.load_pipeline()\n",
    "\n",
    "    def load_pipeline(self):\n",
    "        if self.local_file:\n",
    "            model_path = Path(self.base_model)\n",
    "            if not model_path.exists():\n",
    "                raise FileNotFoundError(f\"Model file not found: {model_path}\")\n",
    "\n",
    "            if self.model_type == \"sd15\":\n",
    "                print(\"from file\")\n",
    "                pipe = StableDiffusionPipeline.from_single_file(model_path, torch_dtype=torch.float16)\n",
    "            elif self.model_type == \"sdxl\":\n",
    "                pipe = StableDiffusionXLPipeline.from_single_file(model_path, torch_dtype=torch.float16)\n",
    "            else:\n",
    "                pipe = FluxPipeline.from_single_file(model_path, torch_dtype=torch.float16)\n",
    "\n",
    "        else:\n",
    "            if self.model_type == \"sd15\":\n",
    "                print(\"from pretrained\")\n",
    "                pipe = StableDiffusionPipeline.from_pretrained(self.base_model, torch_dtype=torch.float16)\n",
    "            elif self.model_type == \"sdxl\":\n",
    "                pipe = StableDiffusionXLPipeline.from_pretrained(self.base_model, torch_dtype=torch.float16)\n",
    "            else:\n",
    "                pipe = FluxPipeline.from_pretrained(self.base_model, torch_dtype=torch.float16)\n",
    "\n",
    "        return pipe.to(self.dml)\n",
    "\n",
    "    def load_lora(self, lora_file, scale=0.8):\n",
    "        self.pipe.load_lora_weights(self.lora_path, weight_name=lora_file)\n",
    "        self.pipe.fuse_lora(lora_scale=scale)\n",
    "\n",
    "    def generate(self, prompt, guidance_scale=7.5, steps=25, width=None, height=None):\n",
    "        kwargs = dict(\n",
    "            prompt=prompt,\n",
    "            guidance_scale=guidance_scale,\n",
    "            num_inference_steps=steps\n",
    "        )\n",
    "\n",
    "        if width and height:\n",
    "            kwargs[\"width\"] = width\n",
    "            kwargs[\"height\"] = height\n",
    "\n",
    "        image = self.pipe(**kwargs).images[0]\n",
    "        return image"
   ]
  },
  {
   "cell_type": "code",
   "execution_count": 4,
   "id": "3c4d520d",
   "metadata": {},
   "outputs": [
    {
     "name": "stdout",
     "output_type": "stream",
     "text": [
      "Requirement already satisfied: hf_xet in e:\\pyworkplace\\fantasygen\\.venv\\lib\\site-packages (1.1.7)\n"
     ]
    },
    {
     "name": "stderr",
     "output_type": "stream",
     "text": [
      "\n",
      "[notice] A new release of pip is available: 23.2.1 -> 25.2\n",
      "[notice] To update, run: python.exe -m pip install --upgrade pip\n"
     ]
    }
   ],
   "source": [
    "!pip install hf_xet"
   ]
  },
  {
   "cell_type": "code",
   "execution_count": 5,
   "id": "2b26362d",
   "metadata": {},
   "outputs": [],
   "source": [
    "prompt = \"big castle\""
   ]
  },
  {
   "cell_type": "code",
   "execution_count": null,
   "id": "a35f8ab0",
   "metadata": {},
   "outputs": [],
   "source": [
    "# Load from local checkpoint\n",
    "gen = Generator(base_model=\"./models/illustriousXL.safetensors\", model_type=\"sdxl\", local_file=True)"
   ]
  },
  {
   "cell_type": "code",
   "execution_count": 8,
   "id": "7aae2b14",
   "metadata": {},
   "outputs": [
    {
     "name": "stderr",
     "output_type": "stream",
     "text": [
      "Loading pipeline components...:   0%|          | 0/7 [00:00<?, ?it/s]"
     ]
    },
    {
     "ename": "",
     "evalue": "",
     "output_type": "error",
     "traceback": [
      "\u001b[1;31mThe Kernel crashed while executing code in the current cell or a previous cell. \n",
      "\u001b[1;31mPlease review the code in the cell(s) to identify a possible cause of the failure. \n",
      "\u001b[1;31mClick <a href='https://aka.ms/vscodeJupyterKernelCrash'>here</a> for more info. \n",
      "\u001b[1;31mView Jupyter <a href='command:jupyter.viewOutput'>log</a> for further details."
     ]
    }
   ],
   "source": [
    "gen = Generator(base_model=\"black-forest-labs/FLUX.1-dev\", model_type=\"auto\")"
   ]
  },
  {
   "cell_type": "code",
   "execution_count": 9,
   "id": "71486529",
   "metadata": {},
   "outputs": [
    {
     "name": "stderr",
     "output_type": "stream",
     "text": [
      "Loading pipeline components...:  14%|█▍        | 1/7 [00:11<01:09, 11.61s/it]"
     ]
    },
    {
     "ename": "",
     "evalue": "",
     "output_type": "error",
     "traceback": [
      "\u001b[1;31mThe Kernel crashed while executing code in the current cell or a previous cell. \n",
      "\u001b[1;31mPlease review the code in the cell(s) to identify a possible cause of the failure. \n",
      "\u001b[1;31mClick <a href='https://aka.ms/vscodeJupyterKernelCrash'>here</a> for more info. \n",
      "\u001b[1;31mView Jupyter <a href='command:jupyter.viewOutput'>log</a> for further details."
     ]
    }
   ],
   "source": [
    "gen = Generator(base_model=\"stabilityai/stable-diffusion-xl-base-1.0\", model_type=\"sdxl\")"
   ]
  },
  {
   "cell_type": "code",
   "execution_count": null,
   "id": "94d9c94e",
   "metadata": {},
   "outputs": [
    {
     "name": "stdout",
     "output_type": "stream",
     "text": [
      "from pretrained\n"
     ]
    },
    {
     "name": "stderr",
     "output_type": "stream",
     "text": [
      "Fetching 15 files:   0%|          | 0/15 [00:00<?, ?it/s]Xet Storage is enabled for this repo, but the 'hf_xet' package is not installed. Falling back to regular HTTP download. For better performance, install the package with: `pip install huggingface_hub[hf_xet]` or `pip install hf_xet`\n",
      "Fetching 15 files:   7%|▋         | 1/15 [00:00<00:04,  3.33it/s]Xet Storage is enabled for this repo, but the 'hf_xet' package is not installed. Falling back to regular HTTP download. For better performance, install the package with: `pip install huggingface_hub[hf_xet]` or `pip install hf_xet`\n",
      "Xet Storage is enabled for this repo, but the 'hf_xet' package is not installed. Falling back to regular HTTP download. For better performance, install the package with: `pip install huggingface_hub[hf_xet]` or `pip install hf_xet`\n",
      "Xet Storage is enabled for this repo, but the 'hf_xet' package is not installed. Falling back to regular HTTP download. For better performance, install the package with: `pip install huggingface_hub[hf_xet]` or `pip install hf_xet`\n",
      "Fetching 15 files: 100%|██████████| 15/15 [00:51<00:00,  3.41s/it]\n",
      "Loading pipeline components...: 100%|██████████| 7/7 [02:11<00:00, 18.82s/it]\n"
     ]
    },
    {
     "ename": "",
     "evalue": "",
     "output_type": "error",
     "traceback": [
      "\u001b[1;31mThe Kernel crashed while executing code in the current cell or a previous cell. \n",
      "\u001b[1;31mPlease review the code in the cell(s) to identify a possible cause of the failure. \n",
      "\u001b[1;31mClick <a href='https://aka.ms/vscodeJupyterKernelCrash'>here</a> for more info. \n",
      "\u001b[1;31mView Jupyter <a href='command:jupyter.viewOutput'>log</a> for further details."
     ]
    }
   ],
   "source": [
    "gen = Generator(base_model=\"runwayml/stable-diffusion-v1-5\", model_type=\"sd15\")\n"
   ]
  },
  {
   "cell_type": "code",
   "execution_count": 12,
   "id": "8b58fa9b",
   "metadata": {},
   "outputs": [
    {
     "name": "stderr",
     "output_type": "stream",
     "text": [
      "100%|██████████| 25/25 [01:28<00:00,  3.53s/it]\n"
     ]
    }
   ],
   "source": [
    "image = gen.generate(prompt=prompt)\n",
    "\n",
    "image.save(\"output.png\")\n"
   ]
  },
  {
   "cell_type": "code",
   "execution_count": null,
   "id": "15577d23",
   "metadata": {},
   "outputs": [
    {
     "name": "stderr",
     "output_type": "stream",
     "text": [
      "Loading pipeline components...: 100%|██████████| 7/7 [00:19<00:00,  2.77s/it]\n",
      "100%|██████████| 25/25 [02:26<00:00,  5.87s/it]\n"
     ]
    },
    {
     "ename": "ValueError",
     "evalue": "unknown file extension: ",
     "output_type": "error",
     "traceback": [
      "\u001b[1;31m---------------------------------------------------------------------------\u001b[0m",
      "\u001b[1;31mKeyError\u001b[0m                                  Traceback (most recent call last)",
      "File \u001b[1;32me:\\pyWorkplace\\fantasyGen\\.venv\\lib\\site-packages\\PIL\\Image.py:2543\u001b[0m, in \u001b[0;36mImage.save\u001b[1;34m(self, fp, format, **params)\u001b[0m\n\u001b[0;32m   2542\u001b[0m \u001b[38;5;28;01mtry\u001b[39;00m:\n\u001b[1;32m-> 2543\u001b[0m     \u001b[38;5;28mformat\u001b[39m \u001b[38;5;241m=\u001b[39m \u001b[43mEXTENSION\u001b[49m\u001b[43m[\u001b[49m\u001b[43mext\u001b[49m\u001b[43m]\u001b[49m\n\u001b[0;32m   2544\u001b[0m \u001b[38;5;28;01mexcept\u001b[39;00m \u001b[38;5;167;01mKeyError\u001b[39;00m \u001b[38;5;28;01mas\u001b[39;00m e:\n",
      "\u001b[1;31mKeyError\u001b[0m: ''",
      "\nThe above exception was the direct cause of the following exception:\n",
      "\u001b[1;31mValueError\u001b[0m                                Traceback (most recent call last)",
      "Cell \u001b[1;32mIn[14], line 4\u001b[0m\n\u001b[0;32m      1\u001b[0m gen_2 \u001b[38;5;241m=\u001b[39m Generator_2()\n\u001b[0;32m      3\u001b[0m image \u001b[38;5;241m=\u001b[39m gen_2\u001b[38;5;241m.\u001b[39mgenerate(prompt\u001b[38;5;241m=\u001b[39mprompt)\n\u001b[1;32m----> 4\u001b[0m \u001b[43mimage\u001b[49m\u001b[38;5;241;43m.\u001b[39;49m\u001b[43msave\u001b[49m\u001b[43m(\u001b[49m\u001b[38;5;124;43m\"\u001b[39;49m\u001b[38;5;124;43m./notebooks\u001b[39;49m\u001b[38;5;124;43m\"\u001b[39;49m\u001b[43m)\u001b[49m\n",
      "File \u001b[1;32me:\\pyWorkplace\\fantasyGen\\.venv\\lib\\site-packages\\PIL\\Image.py:2546\u001b[0m, in \u001b[0;36mImage.save\u001b[1;34m(self, fp, format, **params)\u001b[0m\n\u001b[0;32m   2544\u001b[0m     \u001b[38;5;28;01mexcept\u001b[39;00m \u001b[38;5;167;01mKeyError\u001b[39;00m \u001b[38;5;28;01mas\u001b[39;00m e:\n\u001b[0;32m   2545\u001b[0m         msg \u001b[38;5;241m=\u001b[39m \u001b[38;5;124mf\u001b[39m\u001b[38;5;124m\"\u001b[39m\u001b[38;5;124munknown file extension: \u001b[39m\u001b[38;5;132;01m{\u001b[39;00mext\u001b[38;5;132;01m}\u001b[39;00m\u001b[38;5;124m\"\u001b[39m\n\u001b[1;32m-> 2546\u001b[0m         \u001b[38;5;28;01mraise\u001b[39;00m \u001b[38;5;167;01mValueError\u001b[39;00m(msg) \u001b[38;5;28;01mfrom\u001b[39;00m\u001b[38;5;250m \u001b[39m\u001b[38;5;21;01me\u001b[39;00m\n\u001b[0;32m   2548\u001b[0m \u001b[38;5;28;01mfrom\u001b[39;00m\u001b[38;5;250m \u001b[39m\u001b[38;5;21;01m.\u001b[39;00m\u001b[38;5;250m \u001b[39m\u001b[38;5;28;01mimport\u001b[39;00m ImageFile\n\u001b[0;32m   2550\u001b[0m \u001b[38;5;66;03m# may mutate self!\u001b[39;00m\n",
      "\u001b[1;31mValueError\u001b[0m: unknown file extension: "
     ]
    }
   ],
   "source": [
    "gen_2 = Generator_2()\n",
    "\n",
    "image = gen_2.generate(prompt=prompt)\n",
    "image.save(\"./notebooks/file.png\")\n"
   ]
  }
 ],
 "metadata": {
  "kernelspec": {
   "display_name": ".venv",
   "language": "python",
   "name": "python3"
  },
  "language_info": {
   "codemirror_mode": {
    "name": "ipython",
    "version": 3
   },
   "file_extension": ".py",
   "mimetype": "text/x-python",
   "name": "python",
   "nbconvert_exporter": "python",
   "pygments_lexer": "ipython3",
   "version": "3.10.11"
  }
 },
 "nbformat": 4,
 "nbformat_minor": 5
}
